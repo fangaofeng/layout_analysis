{
 "cells": [
  {
   "cell_type": "code",
   "execution_count": 2,
   "metadata": {
    "pycharm": {
     "is_executing": false
    }
   },
   "outputs": [],
   "source": [
    "import glob\n",
    "import lxml\n",
    "from lxml import etree\n",
    "from lxml.etree import _Element\n",
    "from sklearn.cluster import KMeans\n",
    "from sklearn.cluster  import AgglomerativeClustering\n",
    "import numpy as np\n",
    "import math\n",
    "from bs4 import BeautifulSoup"
   ]
  },
  {
   "cell_type": "code",
   "execution_count": 3,
   "metadata": {
    "pycharm": {
     "is_executing": false
    }
   },
   "outputs": [],
   "source": [
    "from sklearn.neighbors import kneighbors_graph\n",
    "DOC_PATH = '/Users/trinhgiang/Downloads/Gold_Label'"
   ]
  },
  {
   "cell_type": "code",
   "execution_count": 4,
   "metadata": {
    "pycharm": {
     "is_executing": false
    }
   },
   "outputs": [],
   "source": [
    "import os\n",
    "import subprocess\n",
    "import sys\n",
    "def _can_read(fpath: str) -> bool:\n",
    "    return fpath.lower().endswith(\"pdf\")\n",
    "\n",
    "def _get_files(path):\n",
    "    if os.path.isfile(path):\n",
    "        fpaths = [path]\n",
    "    elif os.path.isdir(path):\n",
    "        fpaths = [os.path.join(path, f) for f in os.listdir(path)]\n",
    "    else:\n",
    "        fpaths = glob.glob(path)\n",
    "    fpaths = [x for x in fpaths if _can_read(x)]\n",
    "    if len(fpaths) > 0:\n",
    "        return sorted(fpaths)\n",
    "    else:\n",
    "        raise IOError(f\"File or directory not found: {path}\")"
   ]
  },
  {
   "cell_type": "code",
   "execution_count": 5,
   "metadata": {
    "pycharm": {
     "is_executing": false
    }
   },
   "outputs": [],
   "source": [
    "files = _get_files(DOC_PATH)"
   ]
  },
  {
   "cell_type": "code",
   "execution_count": 6,
   "metadata": {
    "pycharm": {
     "is_executing": false
    }
   },
   "outputs": [
    {
     "name": "stdout",
     "text": [
      "/Users/trinhgiang/Downloads/Gold_Label/ANH-L-TopCV.vn-151219.225323.pdf\n"
     ],
     "output_type": "stream"
    }
   ],
   "source": [
    "i = 1\n",
    "file = files[i]\n",
    "print(files[i])"
   ]
  },
  {
   "cell_type": "markdown",
   "metadata": {},
   "source": [
    "## Tach line"
   ]
  },
  {
   "cell_type": "code",
   "execution_count": 11,
   "metadata": {
    "pycharm": {
     "is_executing": false
    }
   },
   "outputs": [],
   "source": [
    "xml_content = subprocess.check_output(\n",
    "    f\"pdf2txt.py -t xml -M 3 -A '{file}' \", shell=True\n",
    ")\n",
    "soup = BeautifulSoup(xml_content, \"lxml\")\n",
    "all_xml_elements = soup.find_all(\"pages\")\n",
    "if len(all_xml_elements) != 1:\n",
    "    raise NotImplementedError(\n",
    "        f\"unsupported format file: {file}\"\n",
    "    )\n",
    "text = all_xml_elements[0]\n",
    "tree = etree.fromstring(str(text))"
   ]
  },
  {
   "cell_type": "code",
   "execution_count": 13,
   "metadata": {
    "pycharm": {
     "is_executing": false
    }
   },
   "outputs": [
    {
     "data": {
      "text/plain": "<Element page at 0x123ea0280>"
     },
     "metadata": {},
     "output_type": "execute_result",
     "execution_count": 13
    }
   ],
   "source": [
    "tree[0]"
   ]
  },
  {
   "cell_type": "code",
   "execution_count": 14,
   "metadata": {
    "pycharm": {
     "is_executing": false
    }
   },
   "outputs": [
    {
     "data": {
      "text/plain": "'0.000,0.000,601.000,842.000'"
     },
     "metadata": {},
     "output_type": "execute_result",
     "execution_count": 14
    }
   ],
   "source": [
    "tree[0].get(\"bbox\")"
   ]
  },
  {
   "cell_type": "code",
   "execution_count": 16,
   "metadata": {
    "pycharm": {
     "is_executing": false
    }
   },
   "outputs": [],
   "source": [
    "def get_bbox(node: _Element):\n",
    "    bbox = []\n",
    "    if \"bbox\" not in node.keys():\n",
    "        return bbox\n",
    "    for i in node.attrib[\"bbox\"].split(','):\n",
    "        bbox.append(float(i))\n",
    "    return bbox"
   ]
  },
  {
   "cell_type": "code",
   "execution_count": 17,
   "metadata": {
    "pycharm": {
     "is_executing": false
    }
   },
   "outputs": [],
   "source": [
    "def get_word_spaces(tree: _Element):\n",
    "    spaces = {}\n",
    "    lines = []\n",
    "    count = 0\n",
    "    for line in tree.findall(\".//textline\"):\n",
    "        bbox = get_bbox(line)\n",
    "        sizes = []\n",
    "        max_char_width = 0.0\n",
    "        for c in line:\n",
    "            if c.text is None:\n",
    "                c.text = r\"!0\"\n",
    "            if not c.text.isspace():\n",
    "                c_box = get_bbox(c)\n",
    "                if not c_box:\n",
    "                    continue\n",
    "                char_width = c_box[2]-c_box[0]\n",
    "                if max_char_width < char_width:\n",
    "                    max_char_width = char_width\n",
    "                sizes.append(int(round(float(c.attrib[\"size\"]),0)))\n",
    "        if not sizes:\n",
    "            continue\n",
    "        lines.append({\n",
    "        \"node\": line,\n",
    "        \"bbox\": bbox,\n",
    "        \"max_char_width\": max_char_width,\n",
    "        \"wrong_spaces\": []\n",
    "        })\n",
    "        size = max(set(sizes),key=sizes.count)\n",
    "        left = 0\n",
    "        if size not in spaces.keys():\n",
    "            spaces[size]= []\n",
    "        for i in range(len(line)):\n",
    "            if line[i].text is None or not line[i].text.isspace():\n",
    "                if i == left:\n",
    "                    continue\n",
    "                elif i == left + 1:\n",
    "                    left = i\n",
    "                else:\n",
    "                    width = get_bbox(line[i])[0]-get_bbox(line[left])[2]\n",
    "                    spaces[size].append({\n",
    "                        \"line\": count,\n",
    "                        \"position\": i,\n",
    "                        \"width\": width\n",
    "                    })\n",
    "                    left = i\n",
    "            else:\n",
    "                continue\n",
    "        count+=1\n",
    "\n",
    "    return spaces, lines\n",
    "    "
   ]
  },
  {
   "cell_type": "code",
   "execution_count": 18,
   "metadata": {
    "pycharm": {
     "is_executing": false
    }
   },
   "outputs": [],
   "source": [
    "def split_lines(tree):\n",
    "    spaces, lines = get_word_spaces(tree)\n",
    "    for size in spaces:\n",
    "        distances = []\n",
    "        wrong_distance = 0\n",
    "        for space in spaces[size]:\n",
    "            distances.append([space[\"width\"]])\n",
    "            max_space = lines[space[\"line\"]][\"max_char_width\"]*2.3\n",
    "            if wrong_distance < max_space:\n",
    "                wrong_distance = max_space\n",
    "        distances.append([wrong_distance])\n",
    "        if len(distances)<2:\n",
    "            continue\n",
    "        X = np.array(distances)\n",
    "        kmeans = KMeans(n_clusters=2, random_state=0).fit(X)\n",
    "        if kmeans.cluster_centers_[0][0] < kmeans.cluster_centers_[1][0]:\n",
    "            wrong_space_label = 1\n",
    "        else:\n",
    "            wrong_space_label = 0\n",
    "        for i in range(len(kmeans.labels_)-1):\n",
    "            if kmeans.labels_[i]==wrong_space_label and distances[i][0]>lines[spaces[size][i][\"line\"]][\"max_char_width\"]*0.5:\n",
    "                position = spaces[size][i][\"position\"]\n",
    "                lines[spaces[size][i][\"line\"]][\"wrong_spaces\"].append(position)\n",
    "    for line in lines:\n",
    "        if len(line[\"wrong_spaces\"]) != 0 and len(line[\"wrong_spaces\"])<4:\n",
    "            tree = add_sub_line(tree,line[\"node\"],line[\"wrong_spaces\"])\n",
    "        else:\n",
    "            line[\"node\"].tag = \"txtline\"\n",
    "    etree.strip_tags(tree,[\"textline\",\"textbox\"])\n",
    "    for layout in tree.findall(\".//layout\"):\n",
    "        layout.getparent().remove(layout)\n",
    "    for line in tree.findall(\".//txtline\"):\n",
    "        line.tag = \"textline\"\n",
    "        bbox=get_bbox(line)\n",
    "        right=bbox[2]\n",
    "        fonts = []\n",
    "        sizes = []\n",
    "        char_null_attrib = []\n",
    "        for char in line:\n",
    "            if \"bbox\" not in char.keys():\n",
    "                char.set(\"bbox\",str(right)+\",\"+str(bbox[1]) + \",\" +str(right)+\",\"+str(bbox[3]))\n",
    "                continue\n",
    "            else:\n",
    "                char_box = get_bbox(char)\n",
    "                if right < char_box[2]:\n",
    "                    right = char_box[2]\n",
    "            if \"font\" in char.keys():\n",
    "                fonts.append(char.attrib[\"font\"])\n",
    "            if \"size\" in char.keys():\n",
    "                sizes.append(char.attrib[\"size\"])\n",
    "        if len(fonts)==0:\n",
    "            font = \"null\"\n",
    "        else:\n",
    "            font = max(set(fonts),key=fonts.count)\n",
    "        if len(sizes) == 0:\n",
    "            size = \"null\"\n",
    "        else:\n",
    "            size = max(set(sizes),key=fonts.count)\n",
    "        for char in line:\n",
    "            if \"font\" not in char.keys():\n",
    "                char.set(\"font\",font)\n",
    "            if \"size\" not in char.keys():\n",
    "                char.set(\"size\",size)\n",
    "    for fig in tree.findall(\".//figure\"):\n",
    "        flag = 0\n",
    "        for ob in fig:\n",
    "            if ob.tag == \"textline\":\n",
    "                flag = 1\n",
    "                break\n",
    "        if flag:\n",
    "            for chil in fig:\n",
    "                fig.getparent().append(chil)\n",
    "            fig.getparent().remove(fig)\n",
    "    return tree"
   ]
  },
  {
   "cell_type": "code",
   "execution_count": 19,
   "metadata": {
    "pycharm": {
     "is_executing": false
    }
   },
   "outputs": [],
   "source": [
    "def add_sub_line(tree: _Element, line: _Element, wrong_spaces):\n",
    "    new_line = {}\n",
    "    f = 0\n",
    "#   xác định các tập chữ trong các line mới \n",
    "    for i in range(len(wrong_spaces)+1):\n",
    "        if i < len(wrong_spaces):\n",
    "            l = wrong_spaces[i]\n",
    "        elif i == len(wrong_spaces):\n",
    "            l = len(line)\n",
    "        if i not in new_line.keys():\n",
    "            new_line[i]=[]\n",
    "        for j in range(f,l):\n",
    "            new_line[i].append(line[j])\n",
    "        if i >= len(wrong_spaces):\n",
    "            break\n",
    "        f = wrong_spaces[i]\n",
    "#   nối các line mới\n",
    "    for ch in new_line.keys():\n",
    "        temp = etree.Element(\"txtline\")\n",
    "        top = str(get_bbox(new_line[ch][0])[3])\n",
    "        left = str(get_bbox(new_line[ch][0])[0])\n",
    "        count = 0\n",
    "        for i in range(len(new_line[ch])):\n",
    "            if new_line[ch][i].text and not new_line[ch][i].text.isspace():\n",
    "                count = i\n",
    "        right = str(get_bbox(new_line[ch][count])[2])\n",
    "        bottom = str(get_bbox(new_line[ch][0])[1])\n",
    "        temp.set(\"bbox\",left+\",\"+bottom+\",\"+right+\",\"+top)\n",
    "        for c in new_line[ch]:\n",
    "            temp.append(c)\n",
    "        line.append(temp)\n",
    "    return tree"
   ]
  },
  {
   "cell_type": "code",
   "execution_count": 20,
   "metadata": {
    "pycharm": {
     "is_executing": false
    }
   },
   "outputs": [],
   "source": [
    "tree = split_lines(tree)"
   ]
  },
  {
   "cell_type": "code",
   "execution_count": 21,
   "metadata": {
    "pycharm": {
     "is_executing": false
    }
   },
   "outputs": [
    {
     "name": "stdout",
     "text": [
      "ANH L.\n\n---------\nContent Creator\n\n---------\n 12/12/1996\n\n---------\n Nữ\n\n---------\n [protected data]\n\n---------\n protected@topcv.vn\n\n---------\n Quận 10, thành phố Hồ Chí Minh\n\n---------\n [protected data]\n\n---------\nMỤC TIÊU NGHỀ NGHIỆP\n\n---------\nNgắn hạn: không ngừng học hỏi thêm\n\n---------\nkinh nghiệm và kỹ năng\n\n---------\nDài hạn: trở thành một chuyên gia\n\n---------\nmarketing\n\n---------\nKỸ NĂNG\n\n---------\nPhotoshop\n\n---------\nPremier\n\n---------\nFacebook Ads\n\n---------\nNội dung sáng tạo\n\n---------\nChiến lược Marketing\n\n---------\nTổ chức cuộc thi\n\n---------\nTư duy thiết kế\n\n---------\nLàm việc nhóm\n\n---------\nLập kế hoạch\n\n---------\n  HỌC VẤN\n\n---------\nĐẠI HỌC NGOẠI NGỮ - TIN HỌC THÀNH PHỐ HỒ CHÍ MINH (HUFLIT)\n\n---------\nChuyên ngành Kinh Doanh Quốc Tế\n\n---------\n09/2014 -  2018\n\n---------\n KINH NGHIỆM LÀM VIỆC\n\n---------\n03/2019 - HIỆN NAY\n\n---------\nCONTENT CREATOR\n\n---------\ntại công ty cổ phần Gigatum\n\n---------\n- Quản trị và phát triển nội dung tại các kênh cộng đồng: Fanpage, Instagram, blog,...\n\n---------\n- Lên ý tưởng, xây dựng hệ thống các bài viết quảng cáo, chiến dịch marketing, chiến dịch tải ứng\n\n---------\ndụng, activation như “Sống xanh”, “Cùng Clingme mình đi”, “Thương hiệu chiến lược” - các thương hiệu\n\n---------\nhợp tác nổi tiếng như Beard’s papa, Hotto, Couple TX…\n\n---------\n- Sáng tạo nội dung, ngôn từ, hình ảnh, phối hợp với Designer để sản xuất hình ảnh/video phù hợp với\n\n---------\nđịnh dạng các kênh truyền thông.\n\n---------\n- Hợp tác và quản lý quảng cáo với Ads Executive cho chiến dịch truyền thông, tải ứng dụng,…\n\n---------\n- Phụ trách nhóm thực tập sinh (2-3 người) viết bài về các nhãn hàng.\n\n---------\nKết quả: Giảm chi phí quảng cáo và tăng lượng user tải ứng dụng thông qua việc sáng tạo content,\n\n---------\nhình ảnh, phương thức quảng cáo. Tăng phát sinh giao dịch.\n\n---------\nKỹ năng tự học mở rộng: \n\n---------\nTư duy phát triển người dùng và hành vi người dùng.\n\n---------\nTư duy truyền thông online và offline.\n\n---------\nFREELANCER: CONTENT FANPAGE\n\n---------\nAdmin fanpage tại Let’s LAU and Let’s POKE\n\n---------\n- Xây dựng, quản lý và phát triển content trên các kênh Facebook, Instagram, Zalo… \n\n---------\n- Sáng tạo nội dung hình ảnh, thực hiện thiết kế hình ảnh.\n\n---------\n- Đề xuất, chạy và tối ưu hóa quảng cáo cho các chiến dịch marketing. \n\n---------\n- Làm việc với Food Reviewer để quảng cáo trên các kênh Instagram, Facebook.\n\n---------\n01/2019 - 2019\n\n---------\nKết quả: Tăng doanh thu cho 3 cửa hàng trong chương trình sinh nhật với Let’s LAU tăng 70% - Let’s\n\n---------\nPOKE tăng 30%.\n\n---------\n 6/2018 - 02/2019\n\n---------\nCOMMUNITY STAFF\n\n---------\ntại công ty cổ phần Cooky.vn\n\n---------\n- Tổ chức, quản trị và phát triển content cho cuộc thi online hoặc minigame trên các kênh: website,\n\n---------\nfanpage, group Facebook... \n\n---------\n- Lên ý tưởng, xây dựng hệ thống các bài viết quảng cáo xuyên suốt cho các cuộc thi, minigame,\n\n---------\nhướng dẫn sử dụng ứng dụng, đổi quà … \n\n---------\n- Sáng tạo nội dung hình ảnh, thực hiện thiết kế hình ảnh hoặc Video 2D cho các cuộc thi, minigame,\n\n---------\nhướng dẫn sử dụng ứng dụng, đổi quà.\n\n---------\n- Phụ trách nhóm cộng tác viên seeding (5-8 người) cho các bài viết trên website và nhóm cộng đồng\n\n---------\nfacbebook. \n\n---------\nKết quả: Tăng đều lượng người dùng truy cập vào ứng dụng và website, tăng lượng người dùng thật\n\n---------\ntham gia vào group cộng đồng (1000 người/gia mỗi tháng).\n\n---------\nKỹ năng tự học mở rộng:\n\n---------\nTư duy thiết kế hình ảnh và sử dụng tốt các công cụ như PTS, Premier, AI.\n\n---------\nCONTENT CREATOR\n\n---------\ntại Công ty cổ phần bTaskee\n\n---------\n- Xây dựng, quản lý và phát triển content trên các kênh Facebook, Instagram, blog, diễn đàn…\n\n---------\n- Sáng tạo nội dung hình ảnh, phối hợp với Designer.\n\n---------\n- Chạy quảng cáo tăng lượng tải ứng dụng, tuyển dụng giúp việc cho chiến dịch đề ra.\n\n---------\n- Trả lời khách hàng trên các kênh online.\n\n---------\n11/2017 - 6/2018\n\n---------\nKết quả: Tăng lượng người đăng ký giúp việc với chi phí quảng cáo thấp, tăng lượng tải ứng dụng.\n\n---------\n CERTIFICATIONS\n\n---------\nMOS Excel, Word\n\n---------\nPhotoshop căn bản tại DPI center\n\n---------\n2018\n\n---------\n© topcv.vn\n\n---------\n"
     ],
     "output_type": "stream"
    }
   ],
   "source": [
    "for line in tree.findall(\".//textline\"):\n",
    "    t = \"\"\n",
    "    for text in line:\n",
    "        t+=text.text\n",
    "    print(t)\n",
    "    print(\"---------\")"
   ]
  },
  {
   "cell_type": "markdown",
   "metadata": {},
   "source": [
    "## Gom block"
   ]
  },
  {
   "cell_type": "code",
   "execution_count": 22,
   "metadata": {
    "pycharm": {
     "is_executing": false
    }
   },
   "outputs": [],
   "source": [
    "def get_lines(tree: _Element):\n",
    "    pages = []\n",
    "    for page in tree.findall(\".//page\"):\n",
    "        lines = []\n",
    "        for line in page.findall(\".//textline\"):\n",
    "            bbox = get_bbox(line)\n",
    "            page = int(line.getparent().attrib[\"id\"])\n",
    "            sizes = []\n",
    "            size = 0\n",
    "            for char in line:\n",
    "                if \"size\" in char.keys():\n",
    "                    sizes.append(float(char.attrib[\"size\"]))\n",
    "            if sizes:\n",
    "                size = max(set(sizes), key = sizes.count)\n",
    "            lines.append({\n",
    "            \"node\": line,\n",
    "            \"bbox\": bbox,\n",
    "            \"paragraph\": 0,\n",
    "            \"size\": size,\n",
    "            })\n",
    "        pages.append(lines)\n",
    "    return pages"
   ]
  },
  {
   "cell_type": "code",
   "execution_count": 57,
   "metadata": {},
   "outputs": [],
   "source": [
    "# pages, most_height = get_lines_and_most_height(tree)"
   ]
  },
  {
   "cell_type": "code",
   "execution_count": 23,
   "metadata": {
    "pycharm": {
     "is_executing": false
    }
   },
   "outputs": [],
   "source": [
    "def align_distance(box1,box2):\n",
    "    height1 = box1[3]-box1[1]\n",
    "    height2 = box2[3]-box2[1]\n",
    "    is_vert_overlap = (box1[0]<box2[2]) and (box2[0]<box1[2])\n",
    "    vert_distance = min(abs(box1[3]-box2[1]),abs(box2[3]-box1[1]))\n",
    "    if not is_vert_overlap:\n",
    "        return 900.0\n",
    "    else:\n",
    "        if max(height1,height2) == 0:\n",
    "            return 900.0\n",
    "        return vert_distance/max(height1,height2)"
   ]
  },
  {
   "cell_type": "code",
   "execution_count": 24,
   "metadata": {
    "pycharm": {
     "is_executing": false
    }
   },
   "outputs": [],
   "source": [
    "def get_matrix_distance(pages):\n",
    "    metrics = []\n",
    "    for page in pages:\n",
    "        distance_matrix = []\n",
    "        for i in range(len(page)):\n",
    "            temp = []\n",
    "            for j in range(len(page)):\n",
    "                if j == i:\n",
    "                    temp.append(0)\n",
    "                else:\n",
    "                    if abs(page[i][\"size\"]-page[j][\"size\"])>=0.2:\n",
    "                        temp.append(100.0)\n",
    "                    else:\n",
    "                        temp.append(align_distance(page[i][\"bbox\"],page[j][\"bbox\"]))\n",
    "            distance_matrix.append(temp)\n",
    "        metrics.append(distance_matrix)\n",
    "    return metrics"
   ]
  },
  {
   "cell_type": "code",
   "execution_count": 26,
   "metadata": {
    "pycharm": {
     "is_executing": false
    }
   },
   "outputs": [],
   "source": [
    "def HAC_blocks(pages,metrics):\n",
    "    clusters = []\n",
    "    for i in range(len(metrics)):\n",
    "        if len(metrics[i])<3:\n",
    "            clusters.append([])\n",
    "            continue\n",
    "        X=np.array(metrics[i])\n",
    "        nn = 2\n",
    "        samples = []\n",
    "        for line in pages[i]:\n",
    "            samples.append([line[\"bbox\"][0],line[\"bbox\"][3],line[\"bbox\"][1]])\n",
    "        Y = np.array(samples)\n",
    "        while nn<64:\n",
    "            try:\n",
    "                con = kneighbors_graph(Y, nn, include_self=False)\n",
    "                clustering = AgglomerativeClustering(affinity='precomputed',\n",
    "                                        connectivity=con, distance_threshold=2.0,\n",
    "                                        linkage='single', memory=None, n_clusters=None).fit_predict(X)\n",
    "                clusters.append(clustering)\n",
    "            except:\n",
    "                nn *= 2\n",
    "            else:\n",
    "                break\n",
    "        if nn == 64:\n",
    "            clustering = AgglomerativeClustering(affinity='precomputed',\n",
    "                            connectivity=None, distance_threshold=2.0,\n",
    "                            linkage='single', memory=None, n_clusters=None).fit_predict(X)\n",
    "            clusters.append(clustering)\n",
    "\n",
    "    blocks=[]\n",
    "    for i in range(len(clusters)):\n",
    "        if len(clusters[i]) == 0:\n",
    "            continue\n",
    "        temp_blocks = {}\n",
    "        for j in range(len(clusters[i])):\n",
    "            if clusters[i][j] not in temp_blocks.keys():\n",
    "                temp_blocks[clusters[i][j]]=[]\n",
    "            temp_blocks[clusters[i][j]].append(pages[i][j])\n",
    "        for key in temp_blocks:\n",
    "            blocks.append(temp_blocks[key])\n",
    "    # Sắp xếp lại các line trong block\n",
    "    for block in blocks:\n",
    "        for i in range(len(block)):\n",
    "            max_id = i\n",
    "            for j in range(i+1,len(block)):\n",
    "                if block[j][\"bbox\"][3] > block[max_id][\"bbox\"][3]:\n",
    "                    max_id = j\n",
    "                elif block[j][\"bbox\"][3] == block[max_id][\"bbox\"][3] and \\\n",
    "                block[j][\"bbox\"][0] < block[i][\"bbox\"][0] :\n",
    "                    max_id = j\n",
    "            if max_id != i:\n",
    "                block[i],block[max_id]=block[max_id],block[i]\n",
    "    return blocks\n",
    "    "
   ]
  },
  {
   "cell_type": "code",
   "execution_count": 27,
   "metadata": {
    "pycharm": {
     "is_executing": false
    }
   },
   "outputs": [],
   "source": [
    "def line_distance(box1,box2):\n",
    "    height1 = abs(box1[3] - box1[1])\n",
    "    height2 = abs(box2[3] - box2[1])\n",
    "    return min(abs(box1[3]-box2[1]),abs(box2[3]-box1[1]))/max(height1,height2)"
   ]
  },
  {
   "cell_type": "code",
   "execution_count": 28,
   "metadata": {
    "pycharm": {
     "is_executing": false
    }
   },
   "outputs": [],
   "source": [
    "def get_wrong_margins_in_block(blocks):\n",
    "    # Lấy ra mảng các khoảng cách trong block\n",
    "    line_margins=[]\n",
    "    margins=[]\n",
    "    for i in range(len(blocks)):\n",
    "        for j in range(len(blocks[i])-1):\n",
    "            is_vert_overlap = blocks[i][j][\"bbox\"][0]<blocks[i][j+1][\"bbox\"][2] and blocks[i][j+1][\"bbox\"][0]<blocks[i][j][\"bbox\"][2]\n",
    "            is_horz_overlap = not is_vert_overlap and blocks[i][j][\"bbox\"][1]<blocks[i][j+1][\"bbox\"][3] and blocks[i][j+1][\"bbox\"][1]<blocks[i][j][\"bbox\"][3]\n",
    "            if is_horz_overlap:\n",
    "                continue\n",
    "            d = line_distance(blocks[i][j][\"bbox\"],blocks[i][j+1][\"bbox\"])\n",
    "            line_margins.append({\n",
    "                \"height\": d,\n",
    "                \"block\": i,\n",
    "                \"position\": j+1\n",
    "            })\n",
    "            margins.append([d])\n",
    "    margins.append([0.8])\n",
    "    wrong_margins={}\n",
    "    if len(margins)<=2:\n",
    "        return wrong_margins\n",
    "    X = np.array(margins)\n",
    "    kmeans = KMeans(n_clusters=2, random_state=0).fit(X)\n",
    "    # lay tap cac khoang cach sai\n",
    "    if kmeans.cluster_centers_[0][0] < kmeans.cluster_centers_[1][0]:\n",
    "        label = 1\n",
    "    else:\n",
    "        label = 0\n",
    "    for l in range(len(kmeans.labels_)-1):\n",
    "        if kmeans.labels_[l]==label:\n",
    "            block_id = line_margins[l][\"block\"]\n",
    "            if block_id not in wrong_margins.keys():\n",
    "                wrong_margins[block_id]=[]\n",
    "            position = line_margins[l][\"position\"]\n",
    "            wrong_margins[block_id].append(position)\n",
    "    return wrong_margins"
   ]
  },
  {
   "cell_type": "code",
   "execution_count": 29,
   "metadata": {
    "pycharm": {
     "is_executing": false
    }
   },
   "outputs": [],
   "source": [
    "# ham lay toa do cho block\n",
    "def get_bbox_block(lines):\n",
    "    bbox = get_bbox(lines[0][\"node\"])\n",
    "    top = bbox[3]\n",
    "    left = bbox[0]\n",
    "    right = bbox[2]\n",
    "    bottom = bbox[1]\n",
    "    for i in range(1,len(lines)):\n",
    "        tb = get_bbox(lines[i][\"node\"])\n",
    "        if top < tb[3]:\n",
    "            top = tb[3]\n",
    "        if left > tb[0]:\n",
    "            left = tb[0]\n",
    "        if right < tb[2]:\n",
    "            right = tb[2]\n",
    "        if bottom > tb[1]:\n",
    "            bottom = tb[1]\n",
    "    return left,bottom,right,top"
   ]
  },
  {
   "cell_type": "code",
   "execution_count": 30,
   "metadata": {
    "pycharm": {
     "is_executing": false
    }
   },
   "outputs": [],
   "source": [
    "def get_new_block(blocks,wrong_margins):\n",
    "    # lay mang cac block moi\n",
    "    new_blocks = []\n",
    "    for i in range(len(blocks)):\n",
    "        if i in wrong_margins:\n",
    "            for j in range(len(wrong_margins[i])+1):\n",
    "                lines = []\n",
    "                if j == 0:\n",
    "                    lines = blocks[i][:wrong_margins[i][j]]\n",
    "                elif j == len(wrong_margins[i]):\n",
    "                    lines = blocks[i][wrong_margins[i][-1]:]\n",
    "                else:\n",
    "                    lines = blocks[i][wrong_margins[i][j-1]:wrong_margins[i][j]]\n",
    "                new_blocks.append({\n",
    "                    \"bbox\": get_bbox_block(lines),\n",
    "                    \"lines\": lines,\n",
    "                    \"page\": int(lines[0][\"node\"].getparent().attrib[\"id\"])\n",
    "                })\n",
    "        else:\n",
    "            new_blocks.append({\n",
    "                \"bbox\":get_bbox_block(blocks[i]),\n",
    "                \"lines\": blocks[i],\n",
    "                \"page\": int(blocks[i][0][\"node\"].getparent().attrib[\"id\"])\n",
    "            })\n",
    "    # sap xep lai cac block\n",
    "    for i in range(len(new_blocks)):\n",
    "        max_id = i\n",
    "        for j in range(i+1,len(new_blocks)):\n",
    "            if new_blocks[j][\"page\"] < new_blocks[max_id][\"page\"]:\n",
    "                max_id = j\n",
    "            elif new_blocks[j][\"page\"] == new_blocks[max_id][\"page\"]:\n",
    "                if new_blocks[j][\"bbox\"][3] > new_blocks[max_id][\"bbox\"][3]:\n",
    "                    max_id = j\n",
    "                elif new_blocks[j][\"bbox\"][3] == new_blocks[max_id][\"bbox\"][3] and \\\n",
    "                new_blocks[j][\"bbox\"][0] < new_blocks[max_id][\"bbox\"][0] :\n",
    "                    max_id = j\n",
    "        if max_id != i:\n",
    "            new_blocks[i],new_blocks[max_id]=new_blocks[max_id],new_blocks[i]\n",
    "    return new_blocks"
   ]
  },
  {
   "cell_type": "code",
   "execution_count": 31,
   "metadata": {
    "pycharm": {
     "is_executing": false
    }
   },
   "outputs": [],
   "source": [
    "def append_new_block_to_tree(tree,new_blocks):\n",
    "    count = 1\n",
    "    for block in new_blocks:\n",
    "        page = block[\"lines\"][0][\"node\"].getparent()\n",
    "        temp = etree.Element(\"paragraph\")\n",
    "        for line in block[\"lines\"]:\n",
    "            temp.append(line[\"node\"])\n",
    "        bbox = block[\"bbox\"]\n",
    "        temp.set(\"bbox\",str(bbox[0])+\",\"+str(bbox[1])+\",\"+str(bbox[2])+\",\"+str(bbox[3]))\n",
    "        temp.set(\"id\",str(count))\n",
    "        page.append(temp)\n",
    "        count += 1\n",
    "    return tree"
   ]
  },
  {
   "cell_type": "code",
   "execution_count": 32,
   "metadata": {
    "pycharm": {
     "is_executing": false
    }
   },
   "outputs": [],
   "source": [
    "def merger_block(tree):\n",
    "    pages = get_lines(tree)\n",
    "    metrics = get_matrix_distance(pages)\n",
    "    blocks = HAC_blocks(pages,metrics)\n",
    "    wrong_margins = get_wrong_margins_in_block(blocks)\n",
    "    new_blocks = get_new_block(blocks,wrong_margins)\n",
    "    tree = append_new_block_to_tree(tree,new_blocks)\n",
    "    assert len(pages) > 0, \"pages is empty\"\n",
    "    return tree"
   ]
  },
  {
   "cell_type": "code",
   "execution_count": 33,
   "metadata": {
    "pycharm": {
     "is_executing": false
    }
   },
   "outputs": [],
   "source": [
    "tree = merger_block(tree)"
   ]
  },
  {
   "cell_type": "code",
   "execution_count": 34,
   "metadata": {
    "scrolled": false,
    "pycharm": {
     "is_executing": false
    }
   },
   "outputs": [
    {
     "name": "stdout",
     "text": [
      "  HỌC VẤN\n\n----------------------------------------------------------------------------------------\nĐẠI HỌC NGOẠI NGỮ - TIN HỌC THÀNH PHỐ HỒ CHÍ MINH (HUFLIT)\n\nChuyên ngành Kinh Doanh Quốc Tế\n\n----------------------------------------------------------------------------------------\n09/2014 -  2018\n\n----------------------------------------------------------------------------------------\n KINH NGHIỆM LÀM VIỆC\n\n----------------------------------------------------------------------------------------\nCONTENT CREATOR\n\ntại công ty cổ phần Gigatum\n\n- Quản trị và phát triển nội dung tại các kênh cộng đồng: Fanpage, Instagram, blog,...\n\n- Lên ý tưởng, xây dựng hệ thống các bài viết quảng cáo, chiến dịch marketing, chiến dịch tải ứng\n\ndụng, activation như “Sống xanh”, “Cùng Clingme mình đi”, “Thương hiệu chiến lược” - các thương hiệu\n\nhợp tác nổi tiếng như Beard’s papa, Hotto, Couple TX…\n\n- Sáng tạo nội dung, ngôn từ, hình ảnh, phối hợp với Designer để sản xuất hình ảnh/video phù hợp với\n\nđịnh dạng các kênh truyền thông.\n\n- Hợp tác và quản lý quảng cáo với Ads Executive cho chiến dịch truyền thông, tải ứng dụng,…\n\n- Phụ trách nhóm thực tập sinh (2-3 người) viết bài về các nhãn hàng.\n\n----------------------------------------------------------------------------------------\n03/2019 - HIỆN NAY\n\n----------------------------------------------------------------------------------------\nANH L.\n\n----------------------------------------------------------------------------------------\nContent Creator\n\n----------------------------------------------------------------------------------------\n 12/12/1996\n\n----------------------------------------------------------------------------------------\n Nữ\n\n----------------------------------------------------------------------------------------\n [protected data]\n\n----------------------------------------------------------------------------------------\n protected@topcv.vn\n\n----------------------------------------------------------------------------------------\nKết quả: Giảm chi phí quảng cáo và tăng lượng user tải ứng dụng thông qua việc sáng tạo content,\n\nhình ảnh, phương thức quảng cáo. Tăng phát sinh giao dịch.\n\n----------------------------------------------------------------------------------------\n Quận 10, thành phố Hồ Chí Minh\n\n----------------------------------------------------------------------------------------\nKỹ năng tự học mở rộng: \n\nTư duy phát triển người dùng và hành vi người dùng.\n\nTư duy truyền thông online và offline.\n\n----------------------------------------------------------------------------------------\n [protected data]\n\n----------------------------------------------------------------------------------------\nMỤC TIÊU NGHỀ NGHIỆP\n\n----------------------------------------------------------------------------------------\nFREELANCER: CONTENT FANPAGE\n\nAdmin fanpage tại Let’s LAU and Let’s POKE\n\n- Xây dựng, quản lý và phát triển content trên các kênh Facebook, Instagram, Zalo… \n\n- Sáng tạo nội dung hình ảnh, thực hiện thiết kế hình ảnh.\n\n- Đề xuất, chạy và tối ưu hóa quảng cáo cho các chiến dịch marketing. \n\n- Làm việc với Food Reviewer để quảng cáo trên các kênh Instagram, Facebook.\n\n----------------------------------------------------------------------------------------\n01/2019 - 2019\n\n----------------------------------------------------------------------------------------\nNgắn hạn: không ngừng học hỏi thêm\n\nkinh nghiệm và kỹ năng\n\nDài hạn: trở thành một chuyên gia\n\nmarketing\n\n----------------------------------------------------------------------------------------\nKỸ NĂNG\n\n----------------------------------------------------------------------------------------\nKết quả: Tăng doanh thu cho 3 cửa hàng trong chương trình sinh nhật với Let’s LAU tăng 70% - Let’s\n\nPOKE tăng 30%.\n\n----------------------------------------------------------------------------------------\nPhotoshop\n\n----------------------------------------------------------------------------------------\nPremier\n\n----------------------------------------------------------------------------------------\nCOMMUNITY STAFF\n\ntại công ty cổ phần Cooky.vn\n\n- Tổ chức, quản trị và phát triển content cho cuộc thi online hoặc minigame trên các kênh: website,\n\nfanpage, group Facebook... \n\n- Lên ý tưởng, xây dựng hệ thống các bài viết quảng cáo xuyên suốt cho các cuộc thi, minigame,\n\nhướng dẫn sử dụng ứng dụng, đổi quà … \n\n- Sáng tạo nội dung hình ảnh, thực hiện thiết kế hình ảnh hoặc Video 2D cho các cuộc thi, minigame,\n\nhướng dẫn sử dụng ứng dụng, đổi quà.\n\n- Phụ trách nhóm cộng tác viên seeding (5-8 người) cho các bài viết trên website và nhóm cộng đồng\n\nfacbebook. \n\n----------------------------------------------------------------------------------------\n 6/2018 - 02/2019\n\n----------------------------------------------------------------------------------------\nFacebook Ads\n\n----------------------------------------------------------------------------------------\nNội dung sáng tạo\n\n----------------------------------------------------------------------------------------\nChiến lược Marketing\n\n----------------------------------------------------------------------------------------\nTổ chức cuộc thi\n\n----------------------------------------------------------------------------------------\nTư duy thiết kế\n\n----------------------------------------------------------------------------------------\nKết quả: Tăng đều lượng người dùng truy cập vào ứng dụng và website, tăng lượng người dùng thật\n\ntham gia vào group cộng đồng (1000 người/gia mỗi tháng).\n\n----------------------------------------------------------------------------------------\nLàm việc nhóm\n\n----------------------------------------------------------------------------------------\nKỹ năng tự học mở rộng:\n\nTư duy thiết kế hình ảnh và sử dụng tốt các công cụ như PTS, Premier, AI.\n\n----------------------------------------------------------------------------------------\nLập kế hoạch\n\n----------------------------------------------------------------------------------------\nCONTENT CREATOR\n\ntại Công ty cổ phần bTaskee\n\n- Xây dựng, quản lý và phát triển content trên các kênh Facebook, Instagram, blog, diễn đàn…\n\n- Sáng tạo nội dung hình ảnh, phối hợp với Designer.\n\n- Chạy quảng cáo tăng lượng tải ứng dụng, tuyển dụng giúp việc cho chiến dịch đề ra.\n\n- Trả lời khách hàng trên các kênh online.\n\n----------------------------------------------------------------------------------------\n11/2017 - 6/2018\n\n----------------------------------------------------------------------------------------\nKết quả: Tăng lượng người đăng ký giúp việc với chi phí quảng cáo thấp, tăng lượng tải ứng dụng.\n\n----------------------------------------------------------------------------------------\n CERTIFICATIONS\n\n----------------------------------------------------------------------------------------\nMOS Excel, Word\n\nPhotoshop căn bản tại DPI center\n\n----------------------------------------------------------------------------------------\n2018\n\n----------------------------------------------------------------------------------------\n© topcv.vn\n\n----------------------------------------------------------------------------------------\n"
     ],
     "output_type": "stream"
    }
   ],
   "source": [
    "for par in tree.findall(\".//paragraph\"):\n",
    "    for line in par:\n",
    "        t = \"\"\n",
    "        for c in line:\n",
    "            if c.text is None:\n",
    "                t+=r\"!0\"\n",
    "            else:\n",
    "                t+=c.text\n",
    "        print(t)\n",
    "#         print(line.attrib[\"bbox\"])\n",
    "        \n",
    "    print(\"----------------------------------------------------------------------------------------\")"
   ]
  },
  {
   "cell_type": "code",
   "execution_count": null,
   "metadata": {},
   "outputs": [],
   "source": []
  },
  {
   "cell_type": "code",
   "execution_count": 35,
   "metadata": {
    "pycharm": {
     "is_executing": false
    }
   },
   "outputs": [
    {
     "traceback": [
      "\u001b[0;31m---------------------------------------------------------------------------\u001b[0m",
      "\u001b[0;31mModuleNotFoundError\u001b[0m                       Traceback (most recent call last)",
      "\u001b[0;32m~/Downloads/layout_analysis/spacy_parser.py\u001b[0m in \u001b[0;36m<module>\u001b[0;34m\u001b[0m\n\u001b[1;32m      9\u001b[0m \u001b[0;32mtry\u001b[0m\u001b[0;34m:\u001b[0m\u001b[0;34m\u001b[0m\u001b[0;34m\u001b[0m\u001b[0m\n\u001b[0;32m---> 10\u001b[0;31m     \u001b[0;32mimport\u001b[0m \u001b[0mspacy\u001b[0m\u001b[0;34m\u001b[0m\u001b[0;34m\u001b[0m\u001b[0m\n\u001b[0m\u001b[1;32m     11\u001b[0m     \u001b[0;32mfrom\u001b[0m \u001b[0mspacy\u001b[0m\u001b[0;34m.\u001b[0m\u001b[0mcli\u001b[0m \u001b[0;32mimport\u001b[0m \u001b[0mdownload\u001b[0m\u001b[0;34m\u001b[0m\u001b[0;34m\u001b[0m\u001b[0m\n",
      "\u001b[0;31mModuleNotFoundError\u001b[0m: No module named 'spacy'",
      "\nDuring handling of the above exception, another exception occurred:\n",
      "\u001b[0;31mException\u001b[0m                                 Traceback (most recent call last)",
      "\u001b[0;32m<ipython-input-35-62742a658a0f>\u001b[0m in \u001b[0;36m<module>\u001b[0;34m\u001b[0m\n\u001b[0;32m----> 1\u001b[0;31m \u001b[0;32mfrom\u001b[0m \u001b[0mspacy_parser\u001b[0m \u001b[0;32mimport\u001b[0m \u001b[0mSpacy\u001b[0m\u001b[0;34m\u001b[0m\u001b[0;34m\u001b[0m\u001b[0m\n\u001b[0m\u001b[1;32m      2\u001b[0m \u001b[0;34m\u001b[0m\u001b[0m\n",
      "\u001b[0;32m~/Downloads/layout_analysis/spacy_parser.py\u001b[0m in \u001b[0;36m<module>\u001b[0;34m\u001b[0m\n\u001b[1;32m     13\u001b[0m     \u001b[0;32mfrom\u001b[0m \u001b[0mspacy\u001b[0m\u001b[0;34m.\u001b[0m\u001b[0mtokens\u001b[0m \u001b[0;32mimport\u001b[0m \u001b[0mDoc\u001b[0m\u001b[0;34m\u001b[0m\u001b[0;34m\u001b[0m\u001b[0m\n\u001b[1;32m     14\u001b[0m \u001b[0;32mexcept\u001b[0m \u001b[0mException\u001b[0m\u001b[0;34m:\u001b[0m\u001b[0;34m\u001b[0m\u001b[0;34m\u001b[0m\u001b[0m\n\u001b[0;32m---> 15\u001b[0;31m     \u001b[0;32mraise\u001b[0m \u001b[0mException\u001b[0m\u001b[0;34m(\u001b[0m\u001b[0;34m\"spaCy not installed. Use `pip install spacy`.\"\u001b[0m\u001b[0;34m)\u001b[0m\u001b[0;34m\u001b[0m\u001b[0;34m\u001b[0m\u001b[0m\n\u001b[0m\u001b[1;32m     16\u001b[0m \u001b[0;34m\u001b[0m\u001b[0m\n\u001b[1;32m     17\u001b[0m \u001b[0;34m\u001b[0m\u001b[0m\n",
      "\u001b[0;31mException\u001b[0m: spaCy not installed. Use `pip install spacy`."
     ],
     "ename": "Exception",
     "evalue": "spaCy not installed. Use `pip install spacy`.",
     "output_type": "error"
    }
   ],
   "source": [
    "from spacy_parser import Spacy"
   ]
  },
  {
   "cell_type": "code",
   "execution_count": 2,
   "metadata": {},
   "outputs": [],
   "source": [
    "lingual_parser = Spacy(\"vi\")"
   ]
  },
  {
   "cell_type": "code",
   "execution_count": 3,
   "metadata": {},
   "outputs": [],
   "source": [
    "lingual_parser.has_tokenizer_support()\n",
    "lingual_parser.load_lang_model()"
   ]
  },
  {
   "cell_type": "code",
   "execution_count": 10,
   "metadata": {},
   "outputs": [],
   "source": [
    "parts = lingual_parser.split_sentences(\"Cường,,,,, Dũng đẹp trai nhất xóm. Tuấn cũng khá đẹp trai\")"
   ]
  },
  {
   "cell_type": "code",
   "execution_count": 11,
   "metadata": {
    "collapsed": true
   },
   "outputs": [
    {
     "name": "stdout",
     "output_type": "stream",
     "text": [
      "40\n",
      "['Cường', ',', ',', ',', ',', ',', 'Dũng', 'đẹp_trai', 'nhất', 'xóm', '.']\n",
      "[]\n",
      "[0, 6, 8, 10, 12, 14, 16, 21, 30, 35, 39]\n",
      "['', '', '', '', '', '', '', '', '', '', '']\n",
      "['', '', '', '', '', '', '', '', '', '', '']\n",
      "22\n",
      "['Dũng', 'cũng', 'khá', 'đẹp_trai']\n",
      "[]\n",
      "[41, 46, 51, 55]\n",
      "['', '', '', '']\n",
      "['', '', '', '']\n"
     ]
    }
   ],
   "source": [
    "for part in parts:\n",
    "#     print(part)\n",
    "#     print(part[\"text\"][81])\n",
    "    print(len(part[\"text\"]))\n",
    "    print(part[\"words\"])\n",
    "    print(part[\"lenmas\"])\n",
    "#     print(len(part[\"words\"][-1]))\n",
    "#     print(part[\"char_offsets\"])\n",
    "#     print(part[\"char_offsets\"][-1] + len(part[\"words\"][-1]))\n",
    "#     print(part[\"char_offsets\"])\n",
    "    print(part[\"abs_char_offsets\"])\n",
    "    print(part[\"ner_tags\"])\n",
    "    print(part[\"pos_tags\"])"
   ]
  },
  {
   "cell_type": "code",
   "execution_count": 45,
   "metadata": {},
   "outputs": [],
   "source": [
    "import re\n",
    "VN_CHARS_LOWER = u'ạảãàáâậầấẩẫăắằặẳẵóòọõỏôộổỗồốơờớợởỡéèẻẹẽêếềệểễúùụủũưựữửừứíìịỉĩýỳỷỵỹđð'\n",
    "VN_CHARS_UPPER = u'ẠẢÃÀÁÂẬẦẤẨẪĂẮẰẶẲẴÓÒỌÕỎÔỘỔỖỒỐƠỜỚỢỞỠÉÈẺẸẼÊẾỀỆỂỄÚÙỤỦŨƯỰỮỬỪỨÍÌỊỈĨÝỲỶỴỸÐĐ'\n",
    "VN_CHARS = VN_CHARS_LOWER + VN_CHARS_UPPER\n",
    "def no_marks(s):\n",
    "    __INTAB = [ch for ch in VN_CHARS]\n",
    "    __OUTTAB = \"a\"*17 + \"o\"*17 + \"e\"*11 + \"u\"*11 + \"i\"*5 + \"y\"*5 + \"d\"*2\n",
    "    __OUTTAB += \"A\"*17 + \"O\"*17 + \"E\"*11 + \"U\"*11 + \"I\"*5 + \"Y\"*5 + \"D\"*2\n",
    "    __r = re.compile(\"|\".join(__INTAB))\n",
    "    __replaces_dict = dict(zip(__INTAB, __OUTTAB))\n",
    "    result = __r.sub(lambda m: __replaces_dict[m.group(0)], s)\n",
    "    return result"
   ]
  },
  {
   "cell_type": "code",
   "execution_count": 46,
   "metadata": {},
   "outputs": [
    {
     "data": {
      "text/plain": [
       "'Cuong'"
      ]
     },
     "execution_count": 46,
     "metadata": {},
     "output_type": "execute_result"
    }
   ],
   "source": [
    "no_marks(\"Cường\")"
   ]
  },
  {
   "cell_type": "code",
   "execution_count": 66,
   "metadata": {},
   "outputs": [],
   "source": [
    "    for i in range(1,len(part[\"char_offsets\"])):\n",
    "        part[\"char_offsets\"][i] -= 1"
   ]
  },
  {
   "cell_type": "code",
   "execution_count": 81,
   "metadata": {},
   "outputs": [
    {
     "name": "stdout",
     "output_type": "stream",
     "text": [
      "206.685,633.034,214.391,647.561\n",
      "276.659,633.034,279.629,647.561\n",
      "282.617,633.034,289.742,647.561\n",
      "331.040,633.034,339.931,647.561\n",
      "206.685,613.814,212.023,628.472\n",
      "252.117,613.814,258.058,628.472\n",
      "276.022,613.814,281.964,628.472\n"
     ]
    }
   ],
   "source": [
    "part[\"html\"] =[]\n",
    "for i in range(len(part[\"char_offsets\"])):\n",
    "    t =\"\"\n",
    "    for k,v in attrib[part[\"char_offsets\"][i]].items():\n",
    "        if k == \"bbox\":\n",
    "            print(v)\n",
    "#             v = v.replace(\" \",\"\")\n",
    "#             t = t + k + \"=\" + v + \" \"\n",
    "#     t=t[:-1]\n",
    "#     part[\"html\"].append(str(i)+r\" : \"+t)"
   ]
  },
  {
   "cell_type": "code",
   "execution_count": 60,
   "metadata": {},
   "outputs": [],
   "source": [
    "t = []\n",
    "for k,v in attrib[0].items():\n",
    "    if k != 'bbox':\n",
    "        t.append(k+\"=\"+v)"
   ]
  },
  {
   "cell_type": "code",
   "execution_count": 77,
   "metadata": {},
   "outputs": [
    {
     "data": {
      "text/plain": [
       "['0 : colourspace=DeviceRGB font=QEBAAA+Arial-ItalicMT ncolour=[0,0,0] size=14.526',\n",
       " '1 : colourspace=DeviceRGB font=QEBAAA+Arial-ItalicMT ncolour=[0,0,0] size=14.526',\n",
       " '2 : colourspace=DeviceRGB font=QEBAAA+Arial-ItalicMT ncolour=[0,0,0] size=14.526',\n",
       " '3 : colourspace=DeviceRGB font=QEBAAA+Arial-ItalicMT ncolour=[0,0,0] size=14.526',\n",
       " '4 : colourspace=DeviceRGB font=QZAAAA+ArialMT ncolour=[0.266666666,0.266666666,0.266666666] size=14.658',\n",
       " '5 : colourspace=DeviceRGB font=QZAAAA+ArialMT ncolour=[0.266666666,0.266666666,0.266666666] size=14.658',\n",
       " '6 : colourspace=DeviceRGB font=QZAAAA+ArialMT ncolour=[0.266666666,0.266666666,0.266666666] size=14.658']"
      ]
     },
     "execution_count": 77,
     "metadata": {},
     "output_type": "execute_result"
    }
   ],
   "source": [
    "part[\"html\"]"
   ]
  },
  {
   "cell_type": "code",
   "execution_count": 79,
   "metadata": {},
   "outputs": [],
   "source": [
    "state = {\n",
    "    \"visited\": set(),\n",
    "    \"parent\": {},  # map of parent[child] = node used to discover child\n",
    "    \"context\": {},  # track the Context of each node (context['td'] = Cell)\n",
    "    \"section\": {\"idx\": 0},\n",
    "    \"paragraph\": {\"idx\": 0},\n",
    "    \"figure\": {\"idx\": 0},\n",
    "    \"caption\": {\"idx\": 0},\n",
    "    \"table\": {\"idx\": 0},\n",
    "    \"sentence\": {\"idx\": 0, \"abs_offset\": 0},\n",
    "}\n",
    "abs_sentence_offset_end = (\n",
    "state[\"sentence\"][\"abs_offset\"]\n",
    "+ part[\"char_offsets\"][-1]\n",
    "+ len(part[\"words\"][-1])\n",
    ")"
   ]
  },
  {
   "cell_type": "code",
   "execution_count": 80,
   "metadata": {},
   "outputs": [
    {
     "data": {
      "text/plain": [
       "47"
      ]
     },
     "execution_count": 80,
     "metadata": {},
     "output_type": "execute_result"
    }
   ],
   "source": [
    "abs_sentence_offset_end"
   ]
  },
  {
   "cell_type": "code",
   "execution_count": 112,
   "metadata": {},
   "outputs": [],
   "source": [
    "for ancestor in tree.findall(\".//textbox\")[6][0].iterancestors():\n",
    "    if ancestor.find(\"page\") is not None:\n",
    "        page = ancestor.find(\"page\").get(\"id\")\n",
    "        bbox = ancestor.find(\"page\").get(\"bbox\")\n",
    "        bbox = bbox.split(\",\")\n",
    "        width = int(round(float(bbox[2])))\n",
    "        height = bbox[3]"
   ]
  },
  {
   "cell_type": "code",
   "execution_count": 113,
   "metadata": {},
   "outputs": [
    {
     "name": "stdout",
     "output_type": "stream",
     "text": [
      "1 601 842.000\n"
     ]
    }
   ],
   "source": [
    "print(page,width,height)"
   ]
  },
  {
   "cell_type": "code",
   "execution_count": 117,
   "metadata": {},
   "outputs": [
    {
     "data": {
      "text/plain": [
       "'206.685,633.034,214.391,647.561'"
      ]
     },
     "execution_count": 117,
     "metadata": {},
     "output_type": "execute_result"
    }
   ],
   "source": [
    "attrib[0][\"bbox\"]"
   ]
  },
  {
   "cell_type": "code",
   "execution_count": 127,
   "metadata": {},
   "outputs": [],
   "source": [
    "part[\"html_attrs\"]=[]\n",
    "t = \"aksjhdaksd\"\n",
    "part[\"html_attrs\"].append(t)"
   ]
  },
  {
   "cell_type": "code",
   "execution_count": 84,
   "metadata": {},
   "outputs": [],
   "source": [
    "etree.strip_tags(tree,[\"textbox\"])"
   ]
  },
  {
   "cell_type": "code",
   "execution_count": 85,
   "metadata": {},
   "outputs": [],
   "source": [
    "for layout in tree.findall(\".//layout\"):\n",
    "    layout.getparent().remove(layout)"
   ]
  },
  {
   "cell_type": "code",
   "execution_count": 86,
   "metadata": {},
   "outputs": [],
   "source": [
    "text=lxml.etree.tostring(tree, encoding = \"unicode\")"
   ]
  },
  {
   "cell_type": "code",
   "execution_count": null,
   "metadata": {},
   "outputs": [],
   "source": []
  }
 ],
 "metadata": {
  "kernelspec": {
   "display_name": "Python 3",
   "language": "python",
   "name": "python3"
  },
  "language_info": {
   "codemirror_mode": {
    "name": "ipython",
    "version": 3
   },
   "file_extension": ".py",
   "mimetype": "text/x-python",
   "name": "python",
   "nbconvert_exporter": "python",
   "pygments_lexer": "ipython3",
   "version": "3.6.9"
  },
  "pycharm": {
   "stem_cell": {
    "cell_type": "raw",
    "source": [],
    "metadata": {
     "collapsed": false
    }
   }
  }
 },
 "nbformat": 4,
 "nbformat_minor": 2
}